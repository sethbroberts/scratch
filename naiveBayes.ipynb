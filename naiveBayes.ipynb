{
 "cells": [
  {
   "cell_type": "code",
   "execution_count": 20,
   "metadata": {},
   "outputs": [],
   "source": [
    "import math, random, re, os, pathlib\n",
    "from collections import defaultdict, Counter\n",
    "\n",
    "def get_data():\n",
    "    data = []\n",
    "    emaildir = pathlib.Path.cwd() / 'emails'\n",
    "    for dirpath, dirs, files in os.walk(emaildir, topdown=False):\n",
    "        if files:\n",
    "            is_spam = 'spam' in dirpath\n",
    "            for file in files:\n",
    "                filepath = pathlib.Path(dirpath) / file\n",
    "                with open(filepath, 'rb') as fin:\n",
    "                    for line in fin:\n",
    "                        line = line.decode('utf-8', 'ignore')\n",
    "                        if line.startswith('Subject:'):\n",
    "                            line = line.replace('Subject:', '')\n",
    "                            line = line.strip()\n",
    "                            data.append((line, is_spam))\n",
    "    return data\n",
    "\n",
    "def split(data, split_fraction=0.7):\n",
    "    shuffled_data = random.sample(data, k=len(data))\n",
    "    split_ix = int(split_fraction * len(data))\n",
    "    return shuffled_data[:split_ix], shuffled_data[split_ix:]\n",
    "\n",
    "def count_spams(data):\n",
    "    ctspam = sum([1 for msg, label in data if label == True])\n",
    "    ctnonspam = sum([1 for msg, label in data if label == False])\n",
    "    return ctspam, ctnonspam\n",
    "\n",
    "def tokenize(message):\n",
    "    message = message.lower()\n",
    "    words = re.findall(r\"[a-z0-9']+\", message)\n",
    "    return set(words)\n",
    "\n",
    "def word_counts(data):\n",
    "    wcounts = defaultdict(lambda: [0,0])\n",
    "    for message, is_spam in data:\n",
    "        words = tokenize(message)\n",
    "        for word in words:\n",
    "            wcounts[word][0 if is_spam else 1] += 1\n",
    "    return wcounts\n",
    "\n",
    "def word_probabilities(wcounts, tot_spams, tot_nonspams, k=0.5):\n",
    "    return [\n",
    "        (w, (ct_spam + k)/(tot_spams + 2*k), (ct_nonspam + k)/(tot_nonspams + 2*k))\n",
    "            for w, [ct_spam, ct_nonspam] in wcounts.items()\n",
    "    ]\n",
    "\n",
    "def naivebayes_classify(message, wprobs):\n",
    "    log_prob_spam = log_prob_nonspam = 0.0\n",
    "    message_words = tokenize(message)\n",
    "    for word, pspam, pnonspam in wprobs:\n",
    "        if word in message_words:\n",
    "            log_prob_spam += math.log(pspam)\n",
    "            log_prob_nonspam += math.log(pnonspam)\n",
    "        else:\n",
    "            log_prob_spam += math.log(1 - pspam)\n",
    "            log_prob_nonspam += math.log(1 - pnonspam)\n",
    "    prob_spam = math.exp(log_prob_spam)\n",
    "    prob_nonspam = math.exp(log_prob_nonspam)\n",
    "    return prob_spam / (prob_spam + prob_nonspam)\n",
    "\n",
    "def run_test(data, wprobs):\n",
    "    results = []\n",
    "    for msg, is_spam in data:\n",
    "        pspam = naivebayes_classify(msg, wprobs)\n",
    "        results.append((is_spam, pspam >= 0.5))\n",
    "    return Counter(results)\n"
   ]
  },
  {
   "cell_type": "code",
   "execution_count": 21,
   "metadata": {},
   "outputs": [
    {
     "data": {
      "text/plain": [
       "Counter({(False, False): 839,\n",
       "         (True, True): 94,\n",
       "         (True, False): 61,\n",
       "         (False, True): 33})"
      ]
     },
     "execution_count": 21,
     "metadata": {},
     "output_type": "execute_result"
    }
   ],
   "source": [
    "data = get_data()\n",
    "train, test = split(data)\n",
    "tot_spam, tot_nonspam = count_spams(train)\n",
    "wcounts = word_counts(train)\n",
    "wprobs = word_probabilities(wcounts, tot_spam, tot_nonspam)\n",
    "run_test(test, wprobs)"
   ]
  },
  {
   "cell_type": "code",
   "execution_count": null,
   "metadata": {},
   "outputs": [],
   "source": []
  }
 ],
 "metadata": {
  "kernelspec": {
   "display_name": "Python 3",
   "language": "python",
   "name": "python3"
  },
  "language_info": {
   "codemirror_mode": {
    "name": "ipython",
    "version": 3
   },
   "file_extension": ".py",
   "mimetype": "text/x-python",
   "name": "python",
   "nbconvert_exporter": "python",
   "pygments_lexer": "ipython3",
   "version": "3.7.6"
  }
 },
 "nbformat": 4,
 "nbformat_minor": 4
}
