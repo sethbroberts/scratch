{
 "cells": [
  {
   "cell_type": "code",
   "execution_count": 1,
   "metadata": {},
   "outputs": [],
   "source": [
    "def binsearch(array, target):\n",
    "    left, right = 0, len(array)-1\n",
    "    while left <= right:\n",
    "        mid = (left + right)//2\n",
    "        if target < array[mid]:\n",
    "            right = mid-1\n",
    "        elif target > array[mid]:\n",
    "            left = mid+1\n",
    "        else:\n",
    "            return mid\n",
    "    return -1"
   ]
  },
  {
   "cell_type": "code",
   "execution_count": 2,
   "metadata": {},
   "outputs": [
    {
     "name": "stdout",
     "output_type": "stream",
     "text": [
      "array: [1, 1, 2, 2, 3, 4, 5, 7, 8, 9]\n",
      "0.999: item is not in array, binsearch ix=-1\n",
      "1: item is in array, binsearch ix=1\n",
      "3: item is in array, binsearch ix=4\n",
      "8: item is in array, binsearch ix=8\n",
      "9: item is in array, binsearch ix=9\n",
      "10: item is not in array, binsearch ix=-1\n"
     ]
    }
   ],
   "source": [
    "arr = [1,1,2,2,3,4,5,7,8,9]\n",
    "tests = {\n",
    "    0.999: 'is not', 1: 'is', 3: 'is', 8: 'is', 9: 'is', 10: 'is not'\n",
    "}\n",
    "print(f\"array: {arr}\")\n",
    "for val, result in tests.items():\n",
    "    print(f\"{val}: item {result} in array, binsearch ix={binsearch(arr, val)}\")"
   ]
  },
  {
   "cell_type": "code",
   "execution_count": null,
   "metadata": {},
   "outputs": [],
   "source": []
  }
 ],
 "metadata": {
  "kernelspec": {
   "display_name": "Python 3",
   "language": "python",
   "name": "python3"
  },
  "language_info": {
   "codemirror_mode": {
    "name": "ipython",
    "version": 3
   },
   "file_extension": ".py",
   "mimetype": "text/x-python",
   "name": "python",
   "nbconvert_exporter": "python",
   "pygments_lexer": "ipython3",
   "version": "3.7.6"
  }
 },
 "nbformat": 4,
 "nbformat_minor": 4
}
