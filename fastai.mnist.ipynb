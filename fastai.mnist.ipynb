{
 "cells": [
  {
   "cell_type": "code",
   "execution_count": 33,
   "metadata": {},
   "outputs": [],
   "source": [
    "from fastai.vision.all import *"
   ]
  },
  {
   "cell_type": "code",
   "execution_count": 2,
   "metadata": {},
   "outputs": [],
   "source": [
    "def load_data(folder):\n",
    "    path = untar_data(URLs.MNIST_SAMPLE)\n",
    "    threes = [tensor(Image.open(o)) for o in (path / f\"{folder}\" / '3').ls().sorted()]\n",
    "    sevens = [tensor(Image.open(o)) for o in (path / f\"{folder}\" / '7').ls().sorted()]\n",
    "    stacked_threes = torch.stack(threes).float() / 255.\n",
    "    stacked_sevens = torch.stack(sevens).float() / 255.\n",
    "    x = torch.cat([stacked_threes, stacked_sevens]).view(-1, 28*28)\n",
    "    y = tensor([1]*len(threes) + [0]*len(sevens)).unsqueeze(-1)\n",
    "    dset = list(zip(x, y))\n",
    "    return DataLoader(dset, batch_size=64, shuffle=True)\n"
   ]
  },
  {
   "cell_type": "code",
   "execution_count": 3,
   "metadata": {},
   "outputs": [],
   "source": [
    "train_dl = load_data('train')\n",
    "valid_dl = load_data('valid')"
   ]
  },
  {
   "cell_type": "code",
   "execution_count": 4,
   "metadata": {},
   "outputs": [],
   "source": [
    "def init_params(size, std=1.0):\n",
    "    return (torch.randn(size)*std).requires_grad_()\n",
    "\n",
    "def linear1(xb):\n",
    "    return xb@weights + bias\n",
    "\n",
    "def mnist_loss(yhat, yb):\n",
    "    yhat = yhat.sigmoid()\n",
    "    return torch.where((yb==1), 1-yhat, yhat).mean()\n",
    "\n",
    "def calc_grad(xb, yb, model):\n",
    "    yhat = model(xb)\n",
    "    loss = mnist_loss(yhat, yb)\n",
    "    loss.backward()\n",
    "    \n",
    "def train_epoch(train_dl):\n",
    "    for xb, yb in train_dl:\n",
    "        calc_grad(xb, yb, linear1)\n",
    "        for p in params:\n",
    "            p.data -= p.grad * lr\n",
    "            p.grad = None\n",
    "            \n",
    "def valid_acc(yhat, yb):\n",
    "    yhat = yhat.sigmoid()\n",
    "    return ((yhat >= 0.5) == yb).float().mean()\n",
    "            \n",
    "def valid_epoch(valid_dl):\n",
    "    accs = [valid_acc(linear1(xb), yb) for xb, yb in valid_dl]\n",
    "    return round(tensor(accs).mean().item(), 4)\n",
    "        "
   ]
  },
  {
   "cell_type": "code",
   "execution_count": 5,
   "metadata": {},
   "outputs": [
    {
     "name": "stdout",
     "output_type": "stream",
     "text": [
      "0.4729 0.7202 0.8733 0.904 0.9238 0.9317 0.938 0.9428 0.9454 0.9485 0.9506 0.9524 0.9534 0.9549 0.9558 0.9568 0.957 0.9578 0.959 0.9588 "
     ]
    }
   ],
   "source": [
    "lr = 0.1\n",
    "weights = init_params((28*28,1))\n",
    "bias = init_params(1)\n",
    "params = weights, bias\n",
    "\n",
    "for i in range(20):\n",
    "    train_epoch(train_dl)\n",
    "    print(valid_epoch(valid_dl), end=' ')"
   ]
  },
  {
   "cell_type": "code",
   "execution_count": 6,
   "metadata": {},
   "outputs": [],
   "source": [
    "class BasicOptim:\n",
    "    def __init__(self, params, lr):\n",
    "        self.params = params\n",
    "        self.lr = lr\n",
    "    def step(self):\n",
    "        for p in self.params:\n",
    "            p.data -= p.grad * self.lr\n",
    "    def zero_grad(self):\n",
    "        for p in self.params:\n",
    "            p.grad = None\n",
    "            \n",
    "def train_epoch2(train_dl):\n",
    "    for xb, yb in train_dl:\n",
    "        calc_grad(xb, yb, linear1)\n",
    "        opt.step()\n",
    "        opt.zero_grad()\n",
    "        \n",
    "def train_model(epochs):\n",
    "    for epoch in range(epochs):\n",
    "        train_epoch2(train_dl)\n",
    "        print(valid_epoch(valid_dl), end=' ')"
   ]
  },
  {
   "cell_type": "code",
   "execution_count": 7,
   "metadata": {},
   "outputs": [
    {
     "name": "stdout",
     "output_type": "stream",
     "text": [
      "0.734 0.8676 0.9062 0.9293 0.9389 0.9459 0.9495 0.9523 0.9556 0.9578 0.9581 0.9606 0.9609 0.9628 0.9636 0.9639 0.9642 0.9643 0.9658 0.9662 "
     ]
    }
   ],
   "source": [
    "lr = 0.1\n",
    "weights = init_params((28*28,1))\n",
    "bias = init_params(1)\n",
    "params = weights, bias\n",
    "opt = BasicOptim(params, lr)\n",
    "train_model(20)"
   ]
  },
  {
   "cell_type": "code",
   "execution_count": 32,
   "metadata": {},
   "outputs": [],
   "source": [
    "simple_model = nn.Sequential(\n",
    "    nn.Linear(28*28, 30),\n",
    "    nn.ReLU(),\n",
    "    nn.Linear(30,1)\n",
    ")\n",
    "dls = DataLoaders(train_dl, valid_dl)"
   ]
  },
  {
   "cell_type": "code",
   "execution_count": 27,
   "metadata": {},
   "outputs": [
    {
     "data": {
      "text/html": [],
      "text/plain": [
       "<IPython.core.display.HTML object>"
      ]
     },
     "metadata": {},
     "output_type": "display_data"
    },
    {
     "data": {
      "text/plain": [
       "SuggestedLRs(lr_min=0.33113112449646, lr_steep=2.7542285919189453)"
      ]
     },
     "execution_count": 27,
     "metadata": {},
     "output_type": "execute_result"
    },
    {
     "data": {
      "image/png": "[encoded data removed]",
      "text/plain": [
       "<Figure size 432x288 with 1 Axes>"
      ]
     },
     "metadata": {
      "needs_background": "light"
     },
     "output_type": "display_data"
    }
   ],
   "source": [
    "learn = Learner(dls, simple_model, loss_func=mnist_loss, opt_func=SGD, metrics=valid_acc)\n",
    "learn.lr_find()"
   ]
  },
  {
   "cell_type": "code",
   "execution_count": 12,
   "metadata": {},
   "outputs": [
    {
     "data": {
      "text/html": [
       "<table border=\"1\" class=\"dataframe\">\n",
       "  <thead>\n",
       "    <tr style=\"text-align: left;\">\n",
       "      <th>epoch</th>\n",
       "      <th>train_loss</th>\n",
       "      <th>valid_loss</th>\n",
       "      <th>valid_acc</th>\n",
       "      <th>time</th>\n",
       "    </tr>\n",
       "  </thead>\n",
       "  <tbody>\n",
       "    <tr>\n",
       "      <td>0</td>\n",
       "      <td>0.210749</td>\n",
       "      <td>0.109272</td>\n",
       "      <td>0.965162</td>\n",
       "      <td>00:00</td>\n",
       "    </tr>\n",
       "    <tr>\n",
       "      <td>1</td>\n",
       "      <td>0.048673</td>\n",
       "      <td>0.040522</td>\n",
       "      <td>0.971050</td>\n",
       "      <td>00:00</td>\n",
       "    </tr>\n",
       "    <tr>\n",
       "      <td>2</td>\n",
       "      <td>0.027516</td>\n",
       "      <td>0.029377</td>\n",
       "      <td>0.976448</td>\n",
       "      <td>00:00</td>\n",
       "    </tr>\n",
       "    <tr>\n",
       "      <td>3</td>\n",
       "      <td>0.022000</td>\n",
       "      <td>0.024422</td>\n",
       "      <td>0.979882</td>\n",
       "      <td>00:00</td>\n",
       "    </tr>\n",
       "    <tr>\n",
       "      <td>4</td>\n",
       "      <td>0.018022</td>\n",
       "      <td>0.021298</td>\n",
       "      <td>0.981845</td>\n",
       "      <td>00:00</td>\n",
       "    </tr>\n",
       "    <tr>\n",
       "      <td>5</td>\n",
       "      <td>0.017542</td>\n",
       "      <td>0.021511</td>\n",
       "      <td>0.981354</td>\n",
       "      <td>00:00</td>\n",
       "    </tr>\n",
       "    <tr>\n",
       "      <td>6</td>\n",
       "      <td>0.013576</td>\n",
       "      <td>0.018596</td>\n",
       "      <td>0.984298</td>\n",
       "      <td>00:00</td>\n",
       "    </tr>\n",
       "    <tr>\n",
       "      <td>7</td>\n",
       "      <td>0.015253</td>\n",
       "      <td>0.018720</td>\n",
       "      <td>0.982826</td>\n",
       "      <td>00:00</td>\n",
       "    </tr>\n",
       "    <tr>\n",
       "      <td>8</td>\n",
       "      <td>0.013009</td>\n",
       "      <td>0.017651</td>\n",
       "      <td>0.985770</td>\n",
       "      <td>00:00</td>\n",
       "    </tr>\n",
       "    <tr>\n",
       "      <td>9</td>\n",
       "      <td>0.013538</td>\n",
       "      <td>0.017617</td>\n",
       "      <td>0.984789</td>\n",
       "      <td>00:00</td>\n",
       "    </tr>\n",
       "    <tr>\n",
       "      <td>10</td>\n",
       "      <td>0.011396</td>\n",
       "      <td>0.017575</td>\n",
       "      <td>0.982826</td>\n",
       "      <td>00:00</td>\n",
       "    </tr>\n",
       "    <tr>\n",
       "      <td>11</td>\n",
       "      <td>0.011599</td>\n",
       "      <td>0.016846</td>\n",
       "      <td>0.984298</td>\n",
       "      <td>00:00</td>\n",
       "    </tr>\n",
       "    <tr>\n",
       "      <td>12</td>\n",
       "      <td>0.013623</td>\n",
       "      <td>0.017232</td>\n",
       "      <td>0.983317</td>\n",
       "      <td>00:00</td>\n",
       "    </tr>\n",
       "    <tr>\n",
       "      <td>13</td>\n",
       "      <td>0.010570</td>\n",
       "      <td>0.016982</td>\n",
       "      <td>0.982826</td>\n",
       "      <td>00:00</td>\n",
       "    </tr>\n",
       "    <tr>\n",
       "      <td>14</td>\n",
       "      <td>0.012698</td>\n",
       "      <td>0.016944</td>\n",
       "      <td>0.982826</td>\n",
       "      <td>00:00</td>\n",
       "    </tr>\n",
       "    <tr>\n",
       "      <td>15</td>\n",
       "      <td>0.010463</td>\n",
       "      <td>0.016896</td>\n",
       "      <td>0.982826</td>\n",
       "      <td>00:00</td>\n",
       "    </tr>\n",
       "    <tr>\n",
       "      <td>16</td>\n",
       "      <td>0.010657</td>\n",
       "      <td>0.016894</td>\n",
       "      <td>0.982826</td>\n",
       "      <td>00:00</td>\n",
       "    </tr>\n",
       "    <tr>\n",
       "      <td>17</td>\n",
       "      <td>0.010280</td>\n",
       "      <td>0.016874</td>\n",
       "      <td>0.982826</td>\n",
       "      <td>00:00</td>\n",
       "    </tr>\n",
       "    <tr>\n",
       "      <td>18</td>\n",
       "      <td>0.009922</td>\n",
       "      <td>0.016874</td>\n",
       "      <td>0.982826</td>\n",
       "      <td>00:00</td>\n",
       "    </tr>\n",
       "    <tr>\n",
       "      <td>19</td>\n",
       "      <td>0.012535</td>\n",
       "      <td>0.016867</td>\n",
       "      <td>0.982826</td>\n",
       "      <td>00:00</td>\n",
       "    </tr>\n",
       "  </tbody>\n",
       "</table>"
      ],
      "text/plain": [
       "<IPython.core.display.HTML object>"
      ]
     },
     "metadata": {},
     "output_type": "display_data"
    }
   ],
   "source": [
    "learn.fit_one_cycle(20, 3e-1)"
   ]
  },
  {
   "cell_type": "code",
   "execution_count": 13,
   "metadata": {},
   "outputs": [
    {
     "data": {
      "text/plain": [
       "[<matplotlib.lines.Line2D at 0x12afd27f0>]"
      ]
     },
     "execution_count": 13,
     "metadata": {},
     "output_type": "execute_result"
    },
    {
     "data": {
      "image/png": "[encoded data removed]",
      "text/plain": [
       "<Figure size 432x288 with 1 Axes>"
      ]
     },
     "metadata": {
      "needs_background": "light"
     },
     "output_type": "display_data"
    }
   ],
   "source": [
    "plt.plot(tensor(learn.recorder.values)[:,0], color='orange')\n",
    "plt.plot(tensor(learn.recorder.values)[:,1], color='blue')"
   ]
  },
  {
   "cell_type": "code",
   "execution_count": null,
   "metadata": {},
   "outputs": [],
   "source": []
  }
 ],
 "metadata": {
  "kernelspec": {
   "display_name": "Python 3",
   "language": "python",
   "name": "python3"
  },
  "language_info": {
   "codemirror_mode": {
    "name": "ipython",
    "version": 3
   },
   "file_extension": ".py",
   "mimetype": "text/x-python",
   "name": "python",
   "nbconvert_exporter": "python",
   "pygments_lexer": "ipython3",
   "version": "3.8.5"
  }
 },
 "nbformat": 4,
 "nbformat_minor": 4
}
