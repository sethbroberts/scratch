{
 "cells": [
  {
   "cell_type": "code",
   "execution_count": 6,
   "metadata": {},
   "outputs": [],
   "source": [
    "import matplotlib.pyplot as plt\n",
    "import random\n",
    "from dataclasses import dataclass\n",
    "\n",
    "@dataclass\n",
    "class Instance:\n",
    "    x = None\n",
    "    y = None\n",
    "    \n",
    "def fuzz(k):\n",
    "    return random.gauss(0,1) * k\n",
    "\n",
    "def make_data(centers, n=100, k=0.7):\n",
    "    data = []\n",
    "    for x, y in centers:\n",
    "        for _ in range(n):\n",
    "            instance = Instance()\n",
    "            instance.x = x + fuzz(k)\n",
    "            instance.y = y + fuzz(k)\n",
    "            data.append(instance)\n",
    "    return data\n",
    "\n",
    "def distance(i1, i2):\n",
    "    return (sum([(i1.x - i2.x)**2, (i1.y - i2.y)**2]))**0.5\n",
    "\n",
    "def vector_mean(vs):\n",
    "    result = Instance()\n",
    "    result.x = sum([v.x for v in vs])/len(vs)\n",
    "    result.y = sum([v.y for v in vs])/len(vs)\n",
    "    return result\n",
    "\n",
    "class KMeans:\n",
    "    def __init__(self, k):\n",
    "        self.k = k\n",
    "        self.means = None\n",
    "    def classify(self, instance):\n",
    "        return min(range(self.k), key=lambda i: distance(self.means[i], instance))\n",
    "    def train(self, data):\n",
    "        self.means = random.sample(data, k=self.k)\n",
    "        assignments = None\n",
    "        while True:\n",
    "            new_assignments = list(map(self.classify, data))\n",
    "            if assignments == new_assignments:\n",
    "                return\n",
    "            assignments = new_assignments\n",
    "            for i in range(self.k):\n",
    "                clust_i = [instance for label, instance in zip(assignments, data) if label == i]\n",
    "                if clust_i:\n",
    "                    self.means[i] = vector_mean(clust_i)\n",
    "                    "
   ]
  },
  {
   "cell_type": "code",
   "execution_count": 7,
   "metadata": {},
   "outputs": [
    {
     "data": {
      "image/png": "[encoded data removed]",
      "text/plain": [
       "<Figure size 432x288 with 1 Axes>"
      ]
     },
     "metadata": {
      "needs_background": "light"
     },
     "output_type": "display_data"
    }
   ],
   "source": [
    "centers = [(1,1), (3,1), (1,3)]\n",
    "data = make_data(centers)\n",
    "clust = KMeans(3)\n",
    "clust.train(data)\n",
    "plt.scatter([i.x for i in data], [i.y for i in data], color='orange')\n",
    "plt.scatter([clust.means[i].x for i in range(3)], [clust.means[i].y for i in range(3)], color='blue');"
   ]
  },
  {
   "cell_type": "code",
   "execution_count": null,
   "metadata": {},
   "outputs": [],
   "source": []
  }
 ],
 "metadata": {
  "kernelspec": {
   "display_name": "Python 3",
   "language": "python",
   "name": "python3"
  },
  "language_info": {
   "codemirror_mode": {
    "name": "ipython",
    "version": 3
   },
   "file_extension": ".py",
   "mimetype": "text/x-python",
   "name": "python",
   "nbconvert_exporter": "python",
   "pygments_lexer": "ipython3",
   "version": "3.8.5"
  }
 },
 "nbformat": 4,
 "nbformat_minor": 4
}
