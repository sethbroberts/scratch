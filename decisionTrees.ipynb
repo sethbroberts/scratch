{
 "cells": [
  {
   "cell_type": "code",
   "execution_count": 15,
   "metadata": {},
   "outputs": [],
   "source": [
    "import dt_inputs\n",
    "import math\n",
    "from collections import Counter, defaultdict\n",
    "from functools import partial\n",
    "\n",
    "def entropy(class_probs):\n",
    "    return -1 * sum([pi * math.log(pi, 2) for pi in class_probs])\n",
    "\n",
    "def class_probabilities(labels):\n",
    "    tot_ct = len(labels)\n",
    "    return [(ct / tot_ct) for ct in Counter(labels).values()]\n",
    "\n",
    "def subset_entropy(subset):\n",
    "    labels = [label for _, label in subset]\n",
    "    class_probs = class_probabilities(labels)\n",
    "    return entropy(class_probs)\n",
    "\n",
    "def partition_entropy(subsets):\n",
    "    tot_ct = sum([len(subset) for subset in subsets])\n",
    "    return sum([(len(subset)/tot_ct)*subset_entropy(subset) for subset in subsets])\n",
    "\n",
    "def partition_by(attribute, data):\n",
    "    groups = defaultdict(list)\n",
    "    for instance in data:\n",
    "        instance_dict, label = instance\n",
    "        instance_attribute_value = instance_dict.get(attribute)\n",
    "        groups[instance_attribute_value].append(instance)\n",
    "    return groups\n",
    "\n",
    "def entropy_partitioned_by(data, attribute):\n",
    "    groups = partition_by(attribute, data)\n",
    "    return partition_entropy(groups.values())\n",
    "\n",
    "def classify(tree, instance_dict):\n",
    "    if tree in [True, False]:\n",
    "        return tree\n",
    "    attribute, subtree_dict = tree\n",
    "    instance_attribute_value = instance_dict.get(attribute)\n",
    "    if instance_attribute_value not in subtree_dict:\n",
    "        instance_attribute_value = None\n",
    "    subtree = subtree_dict[instance_attribute_value]\n",
    "    return classify(subtree, instance_dict)\n",
    "\n",
    "def build_tree_id3(data, split_candidates=None):\n",
    "    if split_candidates is None:\n",
    "        split_candidates = data[0][0].keys()\n",
    "    ct_true = sum([1 for _, label in data if label == True])\n",
    "    ct_false = sum([1 for _, label in data if label == False])\n",
    "    if ct_true == 0:\n",
    "        return False\n",
    "    if ct_false == 0:\n",
    "        return True\n",
    "    best_attribute = min(split_candidates, key=partial(entropy_partitioned_by, data))\n",
    "    other_candidates = [c for c in split_candidates if c != best_attribute]\n",
    "    subtree_dict = {\n",
    "        av: build_tree_id3(subset, other_candidates) for av, subset in partition_by(best_attribute, data).items()\n",
    "    }\n",
    "    subtree_dict[None] = ct_true > ct_false\n",
    "    return (best_attribute, subtree_dict)\n"
   ]
  },
  {
   "cell_type": "code",
   "execution_count": 18,
   "metadata": {},
   "outputs": [
    {
     "name": "stdout",
     "output_type": "stream",
     "text": [
      "True False\n"
     ]
    },
    {
     "data": {
      "text/plain": [
       "('level',\n",
       " {'Senior': ('tweets', {'no': False, 'yes': True, None: False}),\n",
       "  'Mid': True,\n",
       "  'Junior': ('phd', {'no': True, 'yes': False, None: True}),\n",
       "  None: True})"
      ]
     },
     "execution_count": 18,
     "metadata": {},
     "output_type": "execute_result"
    }
   ],
   "source": [
    "data = dt_inputs.INPUTS\n",
    "tree = build_tree_id3(data)\n",
    "input1 = {'level':'Junior', 'lang':'Java', 'tweets':'yes', 'phd':'no'}\n",
    "input2 = {'level':'Junior', 'lang':'Java', 'tweets':'yes', 'phd':'yes'}\n",
    "print(classify(tree, input1), classify(tree, input2))\n",
    "tree"
   ]
  },
  {
   "cell_type": "code",
   "execution_count": null,
   "metadata": {},
   "outputs": [],
   "source": []
  }
 ],
 "metadata": {
  "kernelspec": {
   "display_name": "Python 3",
   "language": "python",
   "name": "python3"
  },
  "language_info": {
   "codemirror_mode": {
    "name": "ipython",
    "version": 3
   },
   "file_extension": ".py",
   "mimetype": "text/x-python",
   "name": "python",
   "nbconvert_exporter": "python",
   "pygments_lexer": "ipython3",
   "version": "3.7.6"
  }
 },
 "nbformat": 4,
 "nbformat_minor": 4
}
