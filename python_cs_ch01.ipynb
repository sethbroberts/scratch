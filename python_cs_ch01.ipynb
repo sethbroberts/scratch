{
 "cells": [
  {
   "cell_type": "code",
   "execution_count": 6,
   "metadata": {},
   "outputs": [
    {
     "data": {
      "text/plain": [
       "55"
      ]
     },
     "execution_count": 6,
     "metadata": {},
     "output_type": "execute_result"
    }
   ],
   "source": [
    "from functools import lru_cache\n",
    "@lru_cache(maxsize=None)\n",
    "def fibcache(n):\n",
    "    if n < 2:\n",
    "        return n\n",
    "    return fibcache(n-1) + fibcache(n-2)\n",
    "fibcache(10)"
   ]
  },
  {
   "cell_type": "code",
   "execution_count": 7,
   "metadata": {},
   "outputs": [
    {
     "data": {
      "text/plain": [
       "55"
      ]
     },
     "execution_count": 7,
     "metadata": {},
     "output_type": "execute_result"
    }
   ],
   "source": [
    "memo = {0:0, 1:1}\n",
    "def fibmemo(n):\n",
    "    if n not in memo:\n",
    "        memo[n] = fibmemo(n-1) + fibmemo(n-2)\n",
    "    return memo[n]\n",
    "fibmemo(10)"
   ]
  },
  {
   "cell_type": "code",
   "execution_count": 8,
   "metadata": {},
   "outputs": [
    {
     "name": "stdout",
     "output_type": "stream",
     "text": [
      "0 1 1 2 3 5 8 13 21 34 55 "
     ]
    }
   ],
   "source": [
    "def fibgen(n):\n",
    "    prv, nxt = 0, 1\n",
    "    for _ in range(n+1):\n",
    "        yield prv\n",
    "        prv, nxt = nxt, prv + nxt\n",
    "for i in fibgen(10):\n",
    "    print(i, end=' ')"
   ]
  },
  {
   "cell_type": "code",
   "execution_count": 10,
   "metadata": {},
   "outputs": [
    {
     "data": {
      "text/plain": [
       "(449, 132, True)"
      ]
     },
     "execution_count": 10,
     "metadata": {},
     "output_type": "execute_result"
    }
   ],
   "source": [
    "from sys import getsizeof\n",
    "class CompressedGene:\n",
    "    def __init__(self, gene):\n",
    "        self.n2b = {'A':0b00, 'C':0b01, 'G':0b10, 'T':0b11}\n",
    "        self.b2n = {v: k for k, v in self.n2b.items()}\n",
    "        self.compress(gene)\n",
    "    def compress(self, gene):\n",
    "        self.bit_string = 1\n",
    "        for nucleotide in gene:\n",
    "            self.bit_string <<= 2\n",
    "            self.bit_string |= self.n2b[nucleotide]\n",
    "    def uncompress(self):\n",
    "        gene = ''\n",
    "        for i in range(0, self.bit_string.bit_length() - 1, 2):\n",
    "            gene += self.b2n[self.bit_string >> i & 0b11]\n",
    "        return gene[::-1]\n",
    "gene = 'ATCG'*100\n",
    "cgene = CompressedGene(gene)\n",
    "getsizeof(gene), getsizeof(cgene.bit_string), gene == cgene.uncompress()"
   ]
  },
  {
   "cell_type": "code",
   "execution_count": 13,
   "metadata": {},
   "outputs": [
    {
     "data": {
      "text/plain": [
       "'hello world'"
      ]
     },
     "execution_count": 13,
     "metadata": {},
     "output_type": "execute_result"
    }
   ],
   "source": [
    "from secrets import token_bytes\n",
    "def make_key(length):\n",
    "    kbytes = token_bytes(length)\n",
    "    return int.from_bytes(kbytes, 'big')\n",
    "def encrypt(message):\n",
    "    mbytes = message.encode()\n",
    "    mbits = int.from_bytes(mbytes, 'big')\n",
    "    key1 = make_key(len(message))\n",
    "    key2 = key1 ^ mbits\n",
    "    return key1, key2\n",
    "def decrypt(key1, key2):\n",
    "    mbits = key1 ^ key2\n",
    "    mbytes = int.to_bytes(mbits, (mbits.bit_length() + 7) // 8, 'big')\n",
    "    return mbytes.decode()\n",
    "decrypt(*encrypt('hello world'))"
   ]
  },
  {
   "cell_type": "code",
   "execution_count": 15,
   "metadata": {},
   "outputs": [
    {
     "name": "stdout",
     "output_type": "stream",
     "text": [
      "[0, 1, 2, 3, 4] [] []\n",
      "[] [] [0, 1, 2, 3, 4]\n"
     ]
    }
   ],
   "source": [
    "class Stack:\n",
    "    def __init__(self):\n",
    "        self.collection = []\n",
    "    def push(self, item):\n",
    "        self.collection.append(item)\n",
    "    def pop(self):\n",
    "        return self.collection.pop()\n",
    "    def __repr__(self):\n",
    "        return repr(self.collection)\n",
    "def hanoi(start, temp, end, n):\n",
    "    if n == 1:\n",
    "        end.push(start.pop())\n",
    "        return\n",
    "    hanoi(start, end, temp, n-1)\n",
    "    hanoi(start, temp, end, 1)\n",
    "    hanoi(temp, start, end, n-1)\n",
    "    return\n",
    "N = 5\n",
    "a, b, c = Stack(), Stack(), Stack()\n",
    "for i in range(N):\n",
    "    a.push(i)\n",
    "print(a, b, c)\n",
    "hanoi(a, b, c, N)\n",
    "print(a, b, c)"
   ]
  },
  {
   "cell_type": "code",
   "execution_count": 16,
   "metadata": {},
   "outputs": [
    {
     "data": {
      "text/plain": [
       "3.1415916535897743"
      ]
     },
     "execution_count": 16,
     "metadata": {},
     "output_type": "execute_result"
    }
   ],
   "source": [
    "def est_pi(n):\n",
    "    numerator = 4.0\n",
    "    denominator = 1.0\n",
    "    operator = 1.0\n",
    "    pi = 0.0\n",
    "    for _ in range(n):\n",
    "        pi += (numerator / denominator)*operator\n",
    "        denominator += 2.0\n",
    "        operator *= -1.0\n",
    "    return pi\n",
    "est_pi(1000000)"
   ]
  },
  {
   "cell_type": "code",
   "execution_count": null,
   "metadata": {},
   "outputs": [],
   "source": []
  }
 ],
 "metadata": {
  "kernelspec": {
   "display_name": "Python 3",
   "language": "python",
   "name": "python3"
  },
  "language_info": {
   "codemirror_mode": {
    "name": "ipython",
    "version": 3
   },
   "file_extension": ".py",
   "mimetype": "text/x-python",
   "name": "python",
   "nbconvert_exporter": "python",
   "pygments_lexer": "ipython3",
   "version": "3.7.6"
  }
 },
 "nbformat": 4,
 "nbformat_minor": 4
}
