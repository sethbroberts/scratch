{
 "cells": [
  {
   "cell_type": "code",
   "execution_count": 1,
   "metadata": {},
   "outputs": [],
   "source": [
    "import random\n",
    "import matplotlib.pyplot as plt\n",
    "\n",
    "def fuzz(std):\n",
    "    return random.gauss(0,std)\n",
    "\n",
    "def make_data(a, b, n=100, std=0.7):\n",
    "    xs = [random.random() * 3 for _ in range(100)]\n",
    "    ys = [b * xi + a + fuzz(std) for xi in xs]\n",
    "    return xs, ys\n",
    "\n",
    "def mean(xs):\n",
    "    return sum(xs)/len(xs)\n",
    "\n",
    "def ss(xs):\n",
    "    mx = mean(xs)\n",
    "    return sum([(xi - mx)**2 for xi in xs])\n",
    "\n",
    "def standard_deviation(xs):\n",
    "    ssx = ss(xs)\n",
    "    return (ssx/len(xs))**0.5\n",
    "\n",
    "def correlation(xs, ys):\n",
    "    mx, my = mean(xs), mean(ys)\n",
    "    ssx, ssy = ss(xs), ss(ys)\n",
    "    sscross = sum([(xi - mx)*(yi - my) for xi, yi in zip(xs, ys)])\n",
    "    return sscross / (ssx * ssy)**0.5\n",
    "\n",
    "def linreg(xs, ys):\n",
    "    beta = correlation(xs, ys) * standard_deviation(ys) / standard_deviation(xs)\n",
    "    alpha = mean(ys) - beta * mean(xs)\n",
    "    return alpha, beta\n"
   ]
  },
  {
   "cell_type": "code",
   "execution_count": 4,
   "metadata": {},
   "outputs": [
    {
     "name": "stdout",
     "output_type": "stream",
     "text": [
      "estimated params: -5.059214834797048 2.945485475832203\n"
     ]
    },
    {
     "data": {
      "image/png": "[encoded data removed]",
      "text/plain": [
       "<Figure size 432x288 with 1 Axes>"
      ]
     },
     "metadata": {
      "needs_background": "light"
     },
     "output_type": "display_data"
    }
   ],
   "source": [
    "a, b = -5, 3\n",
    "xs, ys = make_data(a, b)\n",
    "plt.scatter(xs, ys, color='orange')\n",
    "alpha, beta = linreg(xs, ys)\n",
    "plt.plot(xs, [beta * xi + alpha for xi in xs], color='blue')\n",
    "print(f\"estimated params: {alpha} {beta}\")"
   ]
  },
  {
   "cell_type": "code",
   "execution_count": null,
   "metadata": {},
   "outputs": [],
   "source": []
  }
 ],
 "metadata": {
  "kernelspec": {
   "display_name": "Python 3",
   "language": "python",
   "name": "python3"
  },
  "language_info": {
   "codemirror_mode": {
    "name": "ipython",
    "version": 3
   },
   "file_extension": ".py",
   "mimetype": "text/x-python",
   "name": "python",
   "nbconvert_exporter": "python",
   "pygments_lexer": "ipython3",
   "version": "3.7.6"
  }
 },
 "nbformat": 4,
 "nbformat_minor": 4
}
