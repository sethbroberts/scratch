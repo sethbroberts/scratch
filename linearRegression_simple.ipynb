{
 "cells": [
  {
   "cell_type": "code",
   "execution_count": 5,
   "metadata": {},
   "outputs": [],
   "source": [
    "import random\n",
    "import matplotlib.pyplot as plt\n",
    "\n",
    "def fuzz(k):\n",
    "    return k * random.gauss(0,1)\n",
    "\n",
    "def make_data(alpha, beta, n=100, k=0.7):\n",
    "    x = [random.uniform(-3,3) for _ in range(n)]\n",
    "    y = [xi * beta + alpha + fuzz(k) for xi in x]\n",
    "    return x, y\n",
    "\n",
    "def mean(x):\n",
    "    return sum(x)/len(x)\n",
    "\n",
    "def ss(xm, x):\n",
    "    return sum([(xi - xm)**2 for xi in x])\n",
    "\n",
    "def standard_deviation(x):\n",
    "    xm = mean(x)\n",
    "    ssx = ss(xm, x)\n",
    "    return (ssx / len(x))**0.5\n",
    "\n",
    "def correlation(x, y):\n",
    "    xm, ym = mean(x), mean(y)\n",
    "    ssx, ssy = ss(xm, x), ss(ym, y)\n",
    "    sscross = sum([(xi - xm)*(yi - ym) for xi, yi in zip(x, y)])\n",
    "    return sscross / (ssx * ssy)**0.5\n",
    "    \n",
    "def linreg(x, y):\n",
    "    beta = correlation(x, y) * standard_deviation(y) / standard_deviation(x)\n",
    "    alpha = mean(y) - beta * mean(x)\n",
    "    return alpha, beta\n"
   ]
  },
  {
   "cell_type": "code",
   "execution_count": 9,
   "metadata": {},
   "outputs": [
    {
     "name": "stdout",
     "output_type": "stream",
     "text": [
      "true params: (-5, 3)\n",
      "est params: (-5.071968128126548, 2.960021059009583)\n"
     ]
    },
    {
     "data": {
      "image/png": "[encoded data removed]",
      "text/plain": [
       "<Figure size 432x288 with 1 Axes>"
      ]
     },
     "metadata": {
      "needs_background": "light"
     },
     "output_type": "display_data"
    }
   ],
   "source": [
    "a, b = -5, 3\n",
    "x, y = make_data(a, b, k=2)\n",
    "alpha, beta = linreg(x, y)\n",
    "plt.scatter(x, y, color='orange')\n",
    "plt.plot(x, [xi * beta + alpha for xi in x], color='blue')\n",
    "print(f\"true params: {(a, b)}\")\n",
    "print(f\"est params: {(alpha, beta)}\")"
   ]
  },
  {
   "cell_type": "code",
   "execution_count": null,
   "metadata": {},
   "outputs": [],
   "source": []
  }
 ],
 "metadata": {
  "kernelspec": {
   "display_name": "Python 3",
   "language": "python",
   "name": "python3"
  },
  "language_info": {
   "codemirror_mode": {
    "name": "ipython",
    "version": 3
   },
   "file_extension": ".py",
   "mimetype": "text/x-python",
   "name": "python",
   "nbconvert_exporter": "python",
   "pygments_lexer": "ipython3",
   "version": "3.7.6"
  }
 },
 "nbformat": 4,
 "nbformat_minor": 4
}
