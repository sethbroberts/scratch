{
 "cells": [
  {
   "cell_type": "code",
   "execution_count": 5,
   "metadata": {},
   "outputs": [],
   "source": [
    "import random\n",
    "import matplotlib.pyplot as plt\n",
    "\n",
    "def fuzz(k):\n",
    "    return random.gauss(0,1) * k\n",
    "\n",
    "def make_data(a, b, n=100, k=0.7):\n",
    "    x = [random.uniform(-3,3) for _ in range(n)]\n",
    "    y = [b * xi + a + fuzz(k) for xi in x]\n",
    "    return x, y\n",
    "\n",
    "def mean(x):\n",
    "    return sum(x)/len(x)\n",
    "\n",
    "def ss(x):\n",
    "    mx = mean(x)\n",
    "    return sum([(xi - mx)**2 for xi in x])\n",
    "\n",
    "def standard_deviation(x):\n",
    "    ssx = ss(x)\n",
    "    return (ssx/len(x))**0.5\n",
    "\n",
    "def correlation(x, y):\n",
    "    mx, my = mean(x), mean(y)\n",
    "    ssx, ssy = ss(x), ss(y)\n",
    "    sscross = sum([(yi - my)*(xi - mx) for xi, yi in zip(x, y)])\n",
    "    return sscross / (ssx * ssy)**0.5\n",
    "\n",
    "def linreg(x, y):\n",
    "    beta = correlation(x, y) * standard_deviation(y) / standard_deviation(x)\n",
    "    alpha = mean(y) - beta * mean(x)\n",
    "    return alpha, beta\n"
   ]
  },
  {
   "cell_type": "code",
   "execution_count": 7,
   "metadata": {},
   "outputs": [
    {
     "name": "stdout",
     "output_type": "stream",
     "text": [
      "estimated params: -5.354923870388411, 3.071294962976467\n"
     ]
    },
    {
     "data": {
      "image/png": "[encoded data removed]",
      "text/plain": [
       "<Figure size 432x288 with 1 Axes>"
      ]
     },
     "metadata": {
      "needs_background": "light"
     },
     "output_type": "display_data"
    }
   ],
   "source": [
    "x, y = make_data(-5, 3, k=1.5)\n",
    "alpha, beta = linreg(x, y)\n",
    "print(f'estimated params: {alpha}, {beta}')\n",
    "plt.scatter(x, y, color='orange')\n",
    "plt.plot(x, [xi * beta + alpha for xi in x], color='blue');"
   ]
  },
  {
   "cell_type": "code",
   "execution_count": null,
   "metadata": {},
   "outputs": [],
   "source": []
  }
 ],
 "metadata": {
  "kernelspec": {
   "display_name": "Python 3",
   "language": "python",
   "name": "python3"
  },
  "language_info": {
   "codemirror_mode": {
    "name": "ipython",
    "version": 3
   },
   "file_extension": ".py",
   "mimetype": "text/x-python",
   "name": "python",
   "nbconvert_exporter": "python",
   "pygments_lexer": "ipython3",
   "version": "3.8.5"
  }
 },
 "nbformat": 4,
 "nbformat_minor": 4
}
