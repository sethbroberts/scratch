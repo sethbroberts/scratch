{
 "cells": [
  {
   "cell_type": "code",
   "execution_count": 2,
   "metadata": {},
   "outputs": [],
   "source": [
    "import random\n",
    "import matplotlib.pyplot as plt\n",
    "\n",
    "def fuzz(k):\n",
    "    return k * random.gauss(0,1)\n",
    "\n",
    "def make_data(alpha, beta, n=100, k=0.7):\n",
    "    x = [random.uniform(-3,3) for _ in range(n)]\n",
    "    y = [beta * xi + alpha + fuzz(k) for xi in x]\n",
    "    return x, y\n",
    "\n",
    "def mean(x):\n",
    "    return sum(x)/len(x)\n",
    "\n",
    "def ss(x):\n",
    "    xm = mean(x)\n",
    "    return sum([(xi - xm)**2 for xi in x])\n",
    "\n",
    "def standard_deviation(x):\n",
    "    ssx = ss(x)\n",
    "    return (ssx / len(x))**0.5\n",
    "\n",
    "def correlation(x, y):\n",
    "    xm, ym = mean(x), mean(y)\n",
    "    ssx, ssy = ss(x), ss(y)\n",
    "    sscross = sum([(xi-xm)*(yi-ym) for xi, yi in zip(x, y)])\n",
    "    return sscross / (ssx * ssy)**0.5\n",
    "\n",
    "def linreg(x, y):\n",
    "    beta = correlation(x, y) * standard_deviation(y) / standard_deviation(x)\n",
    "    alpha = mean(y) - beta * mean(x)\n",
    "    return alpha, beta\n"
   ]
  },
  {
   "cell_type": "code",
   "execution_count": 5,
   "metadata": {},
   "outputs": [
    {
     "name": "stdout",
     "output_type": "stream",
     "text": [
      "alpha true: -5, beta true: 3\n",
      "alpha est: -5.001654537013284, beta est: 2.8648380625514505\n"
     ]
    },
    {
     "data": {
      "image/png": "[encoded data removed]",
      "text/plain": [
       "<Figure size 432x288 with 1 Axes>"
      ]
     },
     "metadata": {
      "needs_background": "light"
     },
     "output_type": "display_data"
    }
   ],
   "source": [
    "alpha_true, beta_true = -5, 3\n",
    "x, y = make_data(alpha_true, beta_true, k=2)\n",
    "alpha, beta = linreg(x, y)\n",
    "print(f\"alpha true: {alpha_true}, beta true: {beta_true}\")\n",
    "print(f\"alpha est: {alpha}, beta est: {beta}\")\n",
    "plt.scatter(x, y, color='orange')\n",
    "plt.plot(x, [beta*xi + alpha for xi in x], color='blue');"
   ]
  },
  {
   "cell_type": "code",
   "execution_count": null,
   "metadata": {},
   "outputs": [],
   "source": []
  }
 ],
 "metadata": {
  "kernelspec": {
   "display_name": "Python 3",
   "language": "python",
   "name": "python3"
  },
  "language_info": {
   "codemirror_mode": {
    "name": "ipython",
    "version": 3
   },
   "file_extension": ".py",
   "mimetype": "text/x-python",
   "name": "python",
   "nbconvert_exporter": "python",
   "pygments_lexer": "ipython3",
   "version": "3.7.6"
  }
 },
 "nbformat": 4,
 "nbformat_minor": 4
}
