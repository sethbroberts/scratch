{
 "cells": [
  {
   "cell_type": "code",
   "execution_count": 3,
   "metadata": {},
   "outputs": [
    {
     "name": "stdout",
     "output_type": "stream",
     "text": [
      "alpha_true: -5, beta_true: 3\n",
      "alpha linreg: -5.123312222956812, beta linreg: 3.2067148127849627\n"
     ]
    },
    {
     "data": {
      "image/png": "[encoded data removed]",
      "text/plain": [
       "<Figure size 432x288 with 1 Axes>"
      ]
     },
     "metadata": {
      "needs_background": "light"
     },
     "output_type": "display_data"
    }
   ],
   "source": [
    "import random\n",
    "import matplotlib.pyplot as plt\n",
    "\n",
    "def fuzz(k):\n",
    "    return k*random.gauss(0,1)\n",
    "\n",
    "def make_data(alpha, beta, n=100, k=0.7):\n",
    "    x = [random.random() for _ in range(n)]\n",
    "    y = [xi*beta + alpha + fuzz(k) for xi in x]\n",
    "    return x, y\n",
    "\n",
    "def mean(x):\n",
    "    return sum(x)/len(x)\n",
    "\n",
    "def ss(x):\n",
    "    mx = mean(x)\n",
    "    return sum([(xi - mx)**2 for xi in x])\n",
    "\n",
    "def standard_deviation(x):\n",
    "    ssx = ss(x)\n",
    "    return (ssx/len(x))**0.5\n",
    "\n",
    "def correlation(x, y):\n",
    "    mx, my = mean(x), mean(y)\n",
    "    ssx, ssy = ss(x), ss(y)\n",
    "    sscross = sum([(xi - mx)*(yi - my) for xi, yi in zip(x, y)])\n",
    "    return sscross / (ssx * ssy)**0.5\n",
    "\n",
    "def linreg(x, y):\n",
    "    beta = correlation(x, y) * standard_deviation(y) / standard_deviation(x)\n",
    "    alpha = mean(y) - beta * mean(x)\n",
    "    return alpha, beta\n",
    "\n",
    "alpha_true, beta_true = -5, 3\n",
    "x, y = make_data(alpha_true, beta_true)\n",
    "alpha, beta = linreg(x, y)\n",
    "print(f\"alpha_true: {alpha_true}, beta_true: {beta_true}\")\n",
    "print(f\"alpha linreg: {alpha}, beta linreg: {beta}\")\n",
    "plt.scatter(x, y, color='orange')\n",
    "plt.plot(x, [xi * beta + alpha for xi in x], color='blue');"
   ]
  },
  {
   "cell_type": "code",
   "execution_count": null,
   "metadata": {},
   "outputs": [],
   "source": []
  }
 ],
 "metadata": {
  "kernelspec": {
   "display_name": "Python 3",
   "language": "python",
   "name": "python3"
  },
  "language_info": {
   "codemirror_mode": {
    "name": "ipython",
    "version": 3
   },
   "file_extension": ".py",
   "mimetype": "text/x-python",
   "name": "python",
   "nbconvert_exporter": "python",
   "pygments_lexer": "ipython3",
   "version": "3.7.6"
  }
 },
 "nbformat": 4,
 "nbformat_minor": 4
}
