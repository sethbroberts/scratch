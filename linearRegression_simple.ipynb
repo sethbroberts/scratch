{
 "cells": [
  {
   "cell_type": "code",
   "execution_count": 1,
   "metadata": {},
   "outputs": [
    {
     "data": {
      "image/png": "[encoded data removed]",
      "text/plain": [
       "<Figure size 432x288 with 1 Axes>"
      ]
     },
     "metadata": {
      "needs_background": "light"
     },
     "output_type": "display_data"
    }
   ],
   "source": [
    "import random\n",
    "import matplotlib.pyplot as plt\n",
    "\n",
    "def fuzz(k):\n",
    "    return k*random.gauss(0, 1)\n",
    "\n",
    "def make_data(a, b, n=100, k=0.7):\n",
    "    x = [random.random() for _ in range(n)]\n",
    "    y = [xi*b + a + fuzz(k) for xi in x]\n",
    "    return x, y\n",
    "\n",
    "def mean(x):\n",
    "    return sum(x) / len(x)\n",
    "\n",
    "def ss(x):\n",
    "    xm = mean(x)\n",
    "    return sum([(xi - xm)**2 for xi in x])\n",
    "\n",
    "def standard_deviation(x):\n",
    "    ssx = ss(x)\n",
    "    return (ssx / len(x))**0.5\n",
    "\n",
    "def correlation(x, y):\n",
    "    xm, ym = mean(x), mean(y)\n",
    "    ssx, ssy = ss(x), ss(y)\n",
    "    sscross = sum([(xi - xm)*(yi - ym) for xi, yi in zip(x, y)])\n",
    "    return sscross / (ssx * ssy)**0.5\n",
    "\n",
    "def linreg(x, y):\n",
    "    beta = correlation(x, y) * standard_deviation(y) / standard_deviation(x)\n",
    "    alpha = mean(y) - beta * mean(x)\n",
    "    return alpha, beta\n",
    "\n",
    "a, b = -5, 3\n",
    "x, y = make_data(a, b)\n",
    "plt.scatter(x, y, color='orange')\n",
    "alpha, beta = linreg(x, y)\n",
    "plt.plot(x, [xi*beta + alpha for xi in x], color='blue');"
   ]
  },
  {
   "cell_type": "code",
   "execution_count": null,
   "metadata": {},
   "outputs": [],
   "source": []
  }
 ],
 "metadata": {
  "kernelspec": {
   "display_name": "Python 3",
   "language": "python",
   "name": "python3"
  },
  "language_info": {
   "codemirror_mode": {
    "name": "ipython",
    "version": 3
   },
   "file_extension": ".py",
   "mimetype": "text/x-python",
   "name": "python",
   "nbconvert_exporter": "python",
   "pygments_lexer": "ipython3",
   "version": "3.7.6"
  }
 },
 "nbformat": 4,
 "nbformat_minor": 4
}
