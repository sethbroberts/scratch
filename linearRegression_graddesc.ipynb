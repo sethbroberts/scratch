{
 "cells": [
  {
   "cell_type": "code",
   "execution_count": 9,
   "metadata": {},
   "outputs": [],
   "source": [
    "import random\n",
    "\n",
    "def dot(v1, v2):\n",
    "    return sum([(v1i * v2i) for v1i, v2i in zip(v1, v2)])\n",
    "\n",
    "def fuzz(std):\n",
    "    return random.gauss(0, std)\n",
    "\n",
    "def make_data(true_params, n=100, std=0.7):\n",
    "    xs = [[random.random() * 3 for _ in range(len(true_params)-1)] + [1] for _ in range(n)]\n",
    "    ys = [dot(xi, true_params) + fuzz(std) for xi in xs]\n",
    "    return xs, ys\n",
    "\n",
    "def vector_subtract(v1, v2):\n",
    "    return [(v1i - v2i) for v1i, v2i in zip(v1, v2)]\n",
    "\n",
    "def scalar_product(a, v):\n",
    "    return [a*vi for vi in v]\n",
    "\n",
    "def mse(xs, ys, params):\n",
    "    yhat = [dot(xi, params) for xi in xs]\n",
    "    squared_errors = [(yhat_i - ys_i)**2 for yhat_i, ys_i in zip(yhat, ys)]\n",
    "    return sum(squared_errors)/len(ys)\n",
    "\n",
    "def grad_func_i(xs, yx, params, loss_func, i, h=0.00001):\n",
    "    params_nudged = [pi + (h if i==j else 0) for j, pi in enumerate(params)]\n",
    "    return (loss_func(xs, ys, params_nudged) - loss_func(xs, ys, params)) / h\n",
    "    \n",
    "def grad_func(xs, yx, params, loss_func):\n",
    "    return [grad_func_i(xs, yx, params, loss_func, i) for i in range(len(params))]\n",
    "\n",
    "def sgd(xs, ys, params_0, loss_func, grad_func, lr_0):\n",
    "    params = params_0\n",
    "    lr = lr_0\n",
    "    minloss = float('inf')\n",
    "    minparams = None\n",
    "    iterations_without_improvement = 0\n",
    "    while iterations_without_improvement < 100:\n",
    "        loss = loss_func(xs, ys, params)\n",
    "        if loss < minloss:\n",
    "            minloss = loss\n",
    "            minparams = params\n",
    "            iterations_without_improvement = 0\n",
    "        else:\n",
    "            iterations_without_improvement += 1\n",
    "            lr *= 0.9\n",
    "        grad = grad_func(xs, ys, params, loss_func)\n",
    "        params = vector_subtract(params, scalar_product(lr, grad))\n",
    "    return minparams\n"
   ]
  },
  {
   "cell_type": "code",
   "execution_count": 10,
   "metadata": {},
   "outputs": [
    {
     "name": "stdout",
     "output_type": "stream",
     "text": [
      "true params: [23, 3, -5]\n",
      "init params: [0.6362455908836219, 0.6588238402608223, 0.35956321815800296]\n",
      "final params: [22.90951375344178, 3.0720713997029, -4.950189421925546]\n"
     ]
    }
   ],
   "source": [
    "true_params = [23, 3, -5]\n",
    "xs, ys = make_data(true_params)\n",
    "params_0 = [random.random() for _ in range(len(true_params))]\n",
    "lr_0 = 0.1\n",
    "params = sgd(xs, ys, params_0, mse, grad_func, lr_0)\n",
    "print(f\"true params: {true_params}\")\n",
    "print(f\"init params: {params_0}\")\n",
    "print(f\"final params: {params}\")"
   ]
  },
  {
   "cell_type": "code",
   "execution_count": null,
   "metadata": {},
   "outputs": [],
   "source": []
  }
 ],
 "metadata": {
  "kernelspec": {
   "display_name": "Python 3",
   "language": "python",
   "name": "python3"
  },
  "language_info": {
   "codemirror_mode": {
    "name": "ipython",
    "version": 3
   },
   "file_extension": ".py",
   "mimetype": "text/x-python",
   "name": "python",
   "nbconvert_exporter": "python",
   "pygments_lexer": "ipython3",
   "version": "3.7.6"
  }
 },
 "nbformat": 4,
 "nbformat_minor": 4
}
