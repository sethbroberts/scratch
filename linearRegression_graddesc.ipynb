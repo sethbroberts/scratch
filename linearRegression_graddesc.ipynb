{
 "cells": [
  {
   "cell_type": "code",
   "execution_count": 1,
   "metadata": {},
   "outputs": [],
   "source": [
    "import random\n",
    "\n",
    "def fuzz(k):\n",
    "    return k * random.gauss(0,1)\n",
    "\n",
    "def dot(x, y):\n",
    "    return sum([xi * yi for xi, yi in zip(x, y)])\n",
    "\n",
    "def vector_subtract(x1, x2):\n",
    "    return [(x1i - x2i) for x1i, x2i in zip(x1, x2)]\n",
    "\n",
    "def scalar_multiply(a, v):\n",
    "    return [a*vi for vi in v]\n",
    "\n",
    "def make_data(true_params, n=100, k=0.7):\n",
    "    x = [[random.uniform(-3,3) for _ in range(len(true_params)-1)] + [1] for _ in range(n)]\n",
    "    y = [dot(xi, true_params) + fuzz(k) for xi in x]\n",
    "    return x, y\n",
    "\n",
    "def mse(x, y, params):\n",
    "    yhat = [dot(xi, params) for xi in x]\n",
    "    return sum([(yi - yhati)**2 for yi, yhati in zip(y, yhat)])/len(y)\n",
    "\n",
    "def grad_est_i(x, y, params, loss_fn, i, h=0.0001):\n",
    "    params_nudged = [pi + (h if ix == i else 0) for ix, pi in enumerate(params)]\n",
    "    return (loss_fn(x, y, params_nudged)-loss_fn(x, y, params))/h\n",
    "\n",
    "def grad_est(x, y, params, loss_fn):\n",
    "    return [grad_est_i(x, y, params, loss_fn, i) for i in range(len(params))]\n",
    "\n",
    "def sgd(x, y, params_0, loss_fn, grad_fn, lr_0):\n",
    "    params = params_0\n",
    "    lr = lr_0\n",
    "    min_params = None\n",
    "    min_loss = float('inf')\n",
    "    iterations_without_improvement = 0\n",
    "    while iterations_without_improvement < 100:\n",
    "        loss = loss_fn(x, y, params)\n",
    "        if loss < min_loss:\n",
    "            min_loss = loss\n",
    "            min_params = params\n",
    "            iterations_without_improvement = 0\n",
    "        else:\n",
    "            iterations_without_improvement += 1\n",
    "            lr *= 0.9\n",
    "        grad = grad_fn(x, y, params, loss_fn)\n",
    "        params = vector_subtract(params, scalar_multiply(lr, grad))\n",
    "    return params\n"
   ]
  },
  {
   "cell_type": "code",
   "execution_count": 2,
   "metadata": {},
   "outputs": [
    {
     "name": "stdout",
     "output_type": "stream",
     "text": [
      "true params: [23, 3, -5]\n",
      "init params: [0.2402337590410445, 0.8891349140682585, 0.7511619774585981]\n",
      "final params: [23.038714006582534, 2.936773512916273, -4.997901258062224]\n"
     ]
    }
   ],
   "source": [
    "true_params = [23, 3, -5]\n",
    "x, y = make_data(true_params)\n",
    "params_0 = [random.random() for _ in range(len(true_params))]\n",
    "params = sgd(x, y, params_0, mse, grad_est, 0.01)\n",
    "print(f\"true params: {true_params}\")\n",
    "print(f\"init params: {params_0}\")\n",
    "print(f\"final params: {params}\")"
   ]
  },
  {
   "cell_type": "code",
   "execution_count": null,
   "metadata": {},
   "outputs": [],
   "source": []
  }
 ],
 "metadata": {
  "kernelspec": {
   "display_name": "Python 3",
   "language": "python",
   "name": "python3"
  },
  "language_info": {
   "codemirror_mode": {
    "name": "ipython",
    "version": 3
   },
   "file_extension": ".py",
   "mimetype": "text/x-python",
   "name": "python",
   "nbconvert_exporter": "python",
   "pygments_lexer": "ipython3",
   "version": "3.7.6"
  }
 },
 "nbformat": 4,
 "nbformat_minor": 4
}
