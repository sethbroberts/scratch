{
 "cells": [
  {
   "cell_type": "code",
   "execution_count": 7,
   "metadata": {},
   "outputs": [],
   "source": [
    "import random\n",
    "\n",
    "def dot(v1, v2):\n",
    "    return sum([(v1i*v2i) for v1i, v2i in zip(v1, v2)])\n",
    "\n",
    "def fuzz(k):\n",
    "    return random.gauss(0,1) * k\n",
    "\n",
    "def make_data(p, n=100, k=0.7):\n",
    "    x = [[random.uniform(-3,3) for _ in range(len(p)-1)] + [1] for _ in range(n)]\n",
    "    y = [dot(xi,p) + fuzz(k) for xi in x]\n",
    "    return x, y\n",
    "\n",
    "def vector_subtract(v1, v2):\n",
    "    return [(v1i - v2i) for v1i, v2i in zip(v1, v2)]\n",
    "\n",
    "def scalar_multiply(a, v):\n",
    "    return [a*vi for vi in v]\n",
    "\n",
    "def mse(x, y, params):\n",
    "    yhat = [dot(xi, params) for xi in x]\n",
    "    return sum([(yhat_i - y_i)**2 for yhat_i, y_i in zip(yhat, y)]) / len(y)\n",
    "\n",
    "def grad_est_i(x, y, params, loss_fn, ix, h=0.00001):\n",
    "    params_nudged = [pi + (h if i == ix else 0) for i, pi in enumerate(params)]\n",
    "    return (loss_fn(x, y, params_nudged) - loss_fn(x, y, params)) / h\n",
    "    \n",
    "def grad_est(x, y, params, loss_fn):\n",
    "    return [grad_est_i(x, y, params, loss_fn, ix) for ix, pi in enumerate(params)]\n",
    "\n",
    "def sgd(x, y, params_0, loss_fn, grad_fn, lr_0):\n",
    "    params = params_0\n",
    "    lr = lr_0\n",
    "    min_loss = float('inf')\n",
    "    min_params = None\n",
    "    interventions_without_improvement = 0\n",
    "    while interventions_without_improvement < 100:\n",
    "        loss = loss_fn(x, y, params)\n",
    "        if loss < min_loss:\n",
    "            min_loss = loss\n",
    "            min_params = params\n",
    "            interventions_without_improvement = 0\n",
    "        else:\n",
    "            interventions_without_improvement += 1\n",
    "            lr *= 0.9\n",
    "        grad = grad_fn(x, y, params, loss_fn)\n",
    "        params = vector_subtract(params, scalar_multiply(lr, grad))\n",
    "    return params\n"
   ]
  },
  {
   "cell_type": "code",
   "execution_count": 9,
   "metadata": {},
   "outputs": [
    {
     "name": "stdout",
     "output_type": "stream",
     "text": [
      "init params: [0.24605286925659586, 0.15282021901362186, 0.6188040976320138]\n",
      "final params: [23.01139574672979, 2.9706558181732357, -5.047527921846479]\n",
      "true params: (23, 3, -5)\n"
     ]
    }
   ],
   "source": [
    "true_params = (23, 3, -5)\n",
    "x, y = make_data(true_params)\n",
    "params_0 = [random.random() for _ in range(len(true_params))]\n",
    "lr_0 = 0.1\n",
    "params = sgd(x, y, params_0, mse, grad_est, lr_0)\n",
    "print(f\"init params: {params_0}\")\n",
    "print(f\"final params: {params}\")\n",
    "print(f\"true params: {true_params}\")"
   ]
  },
  {
   "cell_type": "code",
   "execution_count": null,
   "metadata": {},
   "outputs": [],
   "source": []
  }
 ],
 "metadata": {
  "kernelspec": {
   "display_name": "Python 3",
   "language": "python",
   "name": "python3"
  },
  "language_info": {
   "codemirror_mode": {
    "name": "ipython",
    "version": 3
   },
   "file_extension": ".py",
   "mimetype": "text/x-python",
   "name": "python",
   "nbconvert_exporter": "python",
   "pygments_lexer": "ipython3",
   "version": "3.8.5"
  }
 },
 "nbformat": 4,
 "nbformat_minor": 4
}
