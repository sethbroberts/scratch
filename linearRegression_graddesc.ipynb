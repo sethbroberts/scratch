{
 "cells": [
  {
   "cell_type": "code",
   "execution_count": 5,
   "metadata": {},
   "outputs": [
    {
     "name": "stdout",
     "output_type": "stream",
     "text": [
      "true params: [23, 3, -5]\n",
      "initial guess: [0.20406700017695845, 0.510522174164074, 0.6983853193861417]\n",
      "post sgd params: [22.750161820931396, 3.034365534950667, -4.94755524812408]\n"
     ]
    }
   ],
   "source": [
    "import random\n",
    "\n",
    "def fuzz(k):\n",
    "    return k*random.gauss(0,1)\n",
    "\n",
    "def dot(v1, v2):\n",
    "    return sum([(v1i * v2i) for v1i, v2i in zip(v1, v2)])\n",
    "\n",
    "def make_data(true_params, n=100, k=0.7):\n",
    "    x = [[random.random() for _ in range(len(true_params)-1)] + [1] for _ in range(n)]\n",
    "    y = [dot(xi, true_params) + fuzz(k) for xi in x]\n",
    "    return x, y\n",
    "\n",
    "def vector_subtract(v1, v2):\n",
    "    return [(v1i - v2i) for v1i, v2i in zip(v1, v2)]\n",
    "\n",
    "def scalar_multiply(a, v):\n",
    "    return [a*vi for vi in v]\n",
    "\n",
    "def mse(x, y, params):\n",
    "    yhat = [dot(xi, params) for xi in x]\n",
    "    return sum([(y_i - yhat_i)**2 for y_i, yhat_i in zip(y, yhat)])/len(y)\n",
    "\n",
    "def grad_est_i(x, y, params, loss_fn, i, h=0.00001):\n",
    "    params_nudged = [pi + (h if i == ix else 0) for ix, pi in enumerate(params)]\n",
    "    return (loss_fn(x, y, params_nudged) - loss_fn(x, y, params)) / h\n",
    "\n",
    "def grad_est(x, y, params, loss_fn):\n",
    "    return [grad_est_i(x, y, params, loss_fn, i) for i in range(len(params))]\n",
    "\n",
    "def sgd(x, y, params_0, loss_fn, grad_fn, lr_0):\n",
    "    params = params_0\n",
    "    lr = lr_0\n",
    "    min_loss = float('inf')\n",
    "    min_params = None\n",
    "    iterations_without_improvement = 0\n",
    "    while iterations_without_improvement < 100:\n",
    "        loss = loss_fn(x, y, params)\n",
    "        if loss < min_loss:\n",
    "            min_loss = loss\n",
    "            min_params = params\n",
    "            iterations_without_improvement = 0\n",
    "        else:\n",
    "            iterations_without_improvement += 1\n",
    "            lr *= 0.9\n",
    "        grad = grad_fn(x, y, params, loss_fn)\n",
    "        params = vector_subtract(params, scalar_multiply(lr, grad))\n",
    "    return min_params\n",
    "    \n",
    "true_params = [23, 3, -5]\n",
    "x, y = make_data(true_params)\n",
    "params_0 = [random.random() for _ in range(len(true_params))]\n",
    "params = sgd(x, y, params_0, mse, grad_est, 0.1)\n",
    "print(f\"true params: {true_params}\")\n",
    "print(f\"initial guess: {params_0}\")\n",
    "print(f\"post sgd params: {params}\")"
   ]
  },
  {
   "cell_type": "code",
   "execution_count": null,
   "metadata": {},
   "outputs": [],
   "source": []
  }
 ],
 "metadata": {
  "kernelspec": {
   "display_name": "Python 3",
   "language": "python",
   "name": "python3"
  },
  "language_info": {
   "codemirror_mode": {
    "name": "ipython",
    "version": 3
   },
   "file_extension": ".py",
   "mimetype": "text/x-python",
   "name": "python",
   "nbconvert_exporter": "python",
   "pygments_lexer": "ipython3",
   "version": "3.7.6"
  }
 },
 "nbformat": 4,
 "nbformat_minor": 4
}
