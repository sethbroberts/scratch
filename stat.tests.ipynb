{
 "cells": [
  {
   "cell_type": "markdown",
   "metadata": {},
   "source": [
    "Unlike other \"scratch\" code, this is to clarify statistical test use cases."
   ]
  },
  {
   "cell_type": "code",
   "execution_count": 1,
   "metadata": {},
   "outputs": [
    {
     "data": {
      "text/plain": [
       "Ttest_1sampResult(statistic=2.2228421603740935, pvalue=0.02850124526269893)"
      ]
     },
     "execution_count": 1,
     "metadata": {},
     "output_type": "execute_result"
    }
   ],
   "source": [
    "import random\n",
    "from scipy.stats import ttest_1samp\n",
    "\n",
    "# ONE SAMPLE T-TEST\n",
    "# test whether a sample mean (of a normally distributed interval variable) \n",
    "# significantly differs from a hypothesized value\n",
    "a = [random.gauss(0.25,1) for _ in range(100)]\n",
    "popmean = 0\n",
    "ttest_1samp(a, popmean)"
   ]
  },
  {
   "cell_type": "code",
   "execution_count": 9,
   "metadata": {},
   "outputs": [
    {
     "data": {
      "text/plain": [
       "3.288289474277995e-11"
      ]
     },
     "execution_count": 9,
     "metadata": {},
     "output_type": "execute_result"
    }
   ],
   "source": [
    "import random\n",
    "from scipy.stats import binom_test\n",
    "\n",
    "# BINOMIAL TEST\n",
    "# test allows us to test whether the proportion of successes on a \n",
    "# two-level categorical dependent variable significantly differs from a hypothesized value\n",
    "# for data, 1 could be 'heads', 0 could be 'tails'\n",
    "data = [1 if random.uniform(0,1) < 0.59 else 0 for _ in range(1000)]\n",
    "binom_test(sum(data), n=len(data), p=0.5)"
   ]
  },
  {
   "cell_type": "code",
   "execution_count": 17,
   "metadata": {},
   "outputs": [
    {
     "data": {
      "text/plain": [
       "Power_divergenceResult(statistic=26.419999999999995, pvalue=1.8321874080019842e-06)"
      ]
     },
     "execution_count": 17,
     "metadata": {},
     "output_type": "execute_result"
    }
   ],
   "source": [
    "import random\n",
    "import numpy as np\n",
    "from scipy.stats import chisquare\n",
    "\n",
    "# CHI-SQUARE GOODNESS OF FIT\n",
    "# test whether the observed proportions for a categorical variable \n",
    "# differ from hypothesized proportions\n",
    "data = np.array( [random.choice([1, 2, 2, 3, 3, 3]) for _ in range(100)] )\n",
    "unique_elements, counts_elements = np.unique(data, return_counts=True)\n",
    "chisquare(counts_elements)"
   ]
  },
  {
   "cell_type": "code",
   "execution_count": 18,
   "metadata": {},
   "outputs": [
    {
     "data": {
      "text/plain": [
       "Ttest_indResult(statistic=2.6568816123428745, pvalue=0.00860374034623511)"
      ]
     },
     "execution_count": 18,
     "metadata": {},
     "output_type": "execute_result"
    }
   ],
   "source": [
    "import random\n",
    "from scipy.stats import ttest_ind\n",
    "\n",
    "# TWO INDEPENDENT SAMPLES T-TEST\n",
    "# compare the means of a normally distributed interval dependent variable \n",
    "# for two independent groups\n",
    "a = [random.gauss(0.25, 1) for _ in range(100)]\n",
    "b = [random.gauss(0, 1) for _ in range(80)]\n",
    "ttest_ind(a, b)"
   ]
  },
  {
   "cell_type": "code",
   "execution_count": 20,
   "metadata": {},
   "outputs": [
    {
     "data": {
      "text/plain": [
       "MannwhitneyuResult(statistic=322823.0, pvalue=9.389522668291871e-13)"
      ]
     },
     "execution_count": 20,
     "metadata": {},
     "output_type": "execute_result"
    }
   ],
   "source": [
    "import random\n",
    "from scipy.stats import mannwhitneyu\n",
    "\n",
    "# Wilcoxon-Mann-Whitney test \n",
    "# non-parametric analog to the independent samples t-test \n",
    "# can be used when you do not assume that the dependent variable is a normally distributed interval variable \n",
    "# you only assume that the variable is at least ordinal\n",
    "a = [random.gauss(0.25, 1) for _ in range(1000)]\n",
    "b = [random.gauss(0, 1) for _ in range(800)]\n",
    "mannwhitneyu(a, b)"
   ]
  },
  {
   "cell_type": "code",
   "execution_count": 30,
   "metadata": {},
   "outputs": [
    {
     "name": "stdout",
     "output_type": "stream",
     "text": [
      "[[40 14]\n",
      " [10 36]]\n"
     ]
    },
    {
     "data": {
      "text/plain": [
       "(27.214170692431566, 1.8211894358376534e-07)"
      ]
     },
     "execution_count": 30,
     "metadata": {},
     "output_type": "execute_result"
    }
   ],
   "source": [
    "import random\n",
    "from scipy.stats import chi2_contingency\n",
    "\n",
    "# chi-square test is used when you want to see if there is a relationship between two categorical variables\n",
    "# chi-square test assumes that the expected value for each cell is 5 or higher\n",
    "# if this assumption is not met, use Fisher’s exact test\n",
    "a, b, c, d = 0, 0, 0, 0\n",
    "for _ in range(50):\n",
    "    if random.uniform(0,1) < 0.2:\n",
    "        c += 1\n",
    "    else:\n",
    "        a += 1\n",
    "for _ in range(50):\n",
    "    if random.uniform(0,1) < 0.2:\n",
    "        b += 1\n",
    "    else:\n",
    "        d += 1\n",
    "\n",
    "obs = np.array([[a, b], [c, d]])\n",
    "print(obs)\n",
    "\n",
    "chi, pval, df, exp = chi2_contingency(obs, correction=False)\n",
    "chi, pval"
   ]
  },
  {
   "cell_type": "code",
   "execution_count": 40,
   "metadata": {},
   "outputs": [
    {
     "data": {
      "text/plain": [
       "(4.503918732180759, 0.011919130431089074)"
      ]
     },
     "execution_count": 40,
     "metadata": {},
     "output_type": "execute_result"
    }
   ],
   "source": [
    "import random\n",
    "from scipy.stats import f_oneway\n",
    "\n",
    "# one-way analysis of variance (ANOVA) \n",
    "# used when you have a categorical independent variable (with two or more categories) \n",
    "# and a normally distributed interval dependent variable \n",
    "# and you wish to test for differences in the means of the dependent variable \n",
    "# broken down by the levels of the independent variable\n",
    "std = 3\n",
    "category_level_1 = [random.gauss(0, std) for _ in range(100)]\n",
    "category_level_2 = [random.gauss(0.5, std) for _ in range(80)]\n",
    "category_level_3 = [random.gauss(0.75, std) for _ in range(90)]\n",
    "Fstat, pval = f_oneway(category_level_1, category_level_2, category_level_3)\n",
    "Fstat, pval"
   ]
  },
  {
   "cell_type": "code",
   "execution_count": 41,
   "metadata": {},
   "outputs": [],
   "source": [
    "# Analysis of covariance is like ANOVA, except in addition to the categorical predictors \n",
    "# you also have continuous predictors as well\n",
    "\n",
    "# MANOVA (multivariate analysis of variance) is like ANOVA, except that there are two or more dependent variables\n",
    "\n",
    "# Kruskal Wallis test is used when you have one independent variable with two or more levels \n",
    "# and an ordinal dependent variable\n",
    "# non-parametric version of ANOVA"
   ]
  },
  {
   "cell_type": "code",
   "execution_count": 42,
   "metadata": {},
   "outputs": [],
   "source": [
    "# paired (samples) t-test is used when you have two related observations (i.e., two observations per subject) \n",
    "# and you want to see if the means on these two normally distributed interval variables differ from one another\n",
    "\n",
    "from scipy.stats import ttest_rel\n",
    "\n",
    "# Wilcoxon signed rank sum test is the non-parametric version of a paired samples t-test\n",
    "# use the Wilcoxon signed rank sum test when you do not wish to assume that \n",
    "# the difference between the two variables is interval and normally distributed \n",
    "# (but you do assume the difference is ordinal)\n",
    "\n",
    "from scipy.stats import wilcoxon"
   ]
  },
  {
   "cell_type": "code",
   "execution_count": 43,
   "metadata": {},
   "outputs": [],
   "source": [
    "# marginal frequencies of two binary outcomes, could be\n",
    "# same outcome & same group, e.g., before and after some tx\n",
    "# same outcome & different group / matched pairs, e.g., case control\n",
    "# two outcome variables & single group, e.g., accepted at college X / accepted at college Y\n",
    "from statsmodels.stats.contingency_tables import mcnemar\n",
    "\n",
    "\n",
    "# one-way repeated measures analysis of variance if you had one categorical independent variable \n",
    "# and a normally distributed interval dependent variable that was repeated at least twice for each subject\n",
    "# the equivalent of the paired samples t-test, but allows for two or more levels of the categorical variable\n",
    "# tests whether the mean of the dependent variable differs by the categorical variable\n",
    "from statsmodels.stats.anova import AnovaRM\n",
    "\n",
    "# factorial ANOVA has two or more categorical independent variables (either with or without the interactions) \n",
    "# and a single normally distributed interval dependent variable\n"
   ]
  },
  {
   "cell_type": "code",
   "execution_count": null,
   "metadata": {},
   "outputs": [],
   "source": [
    "\n",
    "# correlation is useful when you want to see the relationship between \n",
    "# two (or more) normally distributed interval variables\n",
    "# assume x and y are Pandas Series\n",
    "x.corr(y, method='pearson') # linear correlation\n",
    "x.corr(y, method='spearman') # ranks of data comparison\n",
    "x.corr(y, method='kendall') # ranks of data comparison\n",
    "\n",
    "# Spearman correlation is used when one or both of the variables are not assumed to be \n",
    "# normally distributed and interval (but are assumed to be ordinal)\n",
    "\n",
    "# linear relationship between one normally distributed interval predictor and \n",
    "# one normally distributed interval outcome variable\n",
    "from sklearn.linear_model import LinearRegression"
   ]
  }
 ],
 "metadata": {
  "kernelspec": {
   "display_name": "Python 3",
   "language": "python",
   "name": "python3"
  },
  "language_info": {
   "codemirror_mode": {
    "name": "ipython",
    "version": 3
   },
   "file_extension": ".py",
   "mimetype": "text/x-python",
   "name": "python",
   "nbconvert_exporter": "python",
   "pygments_lexer": "ipython3",
   "version": "3.7.6"
  }
 },
 "nbformat": 4,
 "nbformat_minor": 4
}
