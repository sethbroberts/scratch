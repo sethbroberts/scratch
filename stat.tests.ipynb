{
 "cells": [
  {
   "cell_type": "markdown",
   "metadata": {},
   "source": [
    "Unlike other \"scratch\" code, this is to clarify statistical test use cases."
   ]
  },
  {
   "cell_type": "code",
   "execution_count": 4,
   "metadata": {},
   "outputs": [
    {
     "data": {
      "text/plain": [
       "Ttest_1sampResult(statistic=2.3638917388637815, pvalue=0.02003647001886398)"
      ]
     },
     "execution_count": 4,
     "metadata": {},
     "output_type": "execute_result"
    }
   ],
   "source": [
    "import random\n",
    "from scipy.stats import ttest_1samp\n",
    "\n",
    "# ONE SAMPLE T-TEST\n",
    "# test whether a sample mean (of a normally distributed interval variable) \n",
    "# significantly differs from a hypothesized value\n",
    "a = [random.gauss(0.25,1) for _ in range(100)]\n",
    "popmean = 0\n",
    "ttest_1samp(a, popmean)"
   ]
  },
  {
   "cell_type": "code",
   "execution_count": 12,
   "metadata": {},
   "outputs": [
    {
     "data": {
      "text/plain": [
       "0.05688793364098078"
      ]
     },
     "execution_count": 12,
     "metadata": {},
     "output_type": "execute_result"
    }
   ],
   "source": [
    "import random\n",
    "from scipy.stats import binom_test\n",
    "\n",
    "# BINOMIAL TEST\n",
    "# test allows us to test whether the proportion of successes on a \n",
    "# two-level categorical dependent variable significantly differs from a hypothesized value\n",
    "# for data, 1 could be 'heads', 0 could be 'tails'\n",
    "data = [1 if random.uniform(0,1) < 0.59 else 0 for _ in range(100)]\n",
    "binom_test(sum(data), n=len(data), p=0.5)"
   ]
  },
  {
   "cell_type": "code",
   "execution_count": 63,
   "metadata": {},
   "outputs": [
    {
     "data": {
      "text/plain": [
       "Power_divergenceResult(statistic=33.98, pvalue=4.1815447845770135e-08)"
      ]
     },
     "execution_count": 63,
     "metadata": {},
     "output_type": "execute_result"
    }
   ],
   "source": [
    "import random\n",
    "import numpy as np\n",
    "from scipy.stats import chisquare\n",
    "from collections import Counter\n",
    "\n",
    "# CHI-SQUARE GOODNESS OF FIT\n",
    "# test whether the observed proportions for a categorical variable \n",
    "# differ from hypothesized proportions\n",
    "data = np.array( [random.choice([1, 2, 2, 3, 3, 3]) for _ in range(100)] )\n",
    "unique_elements, counts_elements = np.unique(data, return_counts=True)\n",
    "chisquare(counts_elements)"
   ]
  },
  {
   "cell_type": "code",
   "execution_count": 65,
   "metadata": {},
   "outputs": [
    {
     "data": {
      "text/plain": [
       "Ttest_indResult(statistic=2.3020112878195764, pvalue=0.022492324288825524)"
      ]
     },
     "execution_count": 65,
     "metadata": {},
     "output_type": "execute_result"
    }
   ],
   "source": [
    "import random\n",
    "from scipy.stats import ttest_ind\n",
    "\n",
    "# TWO INDEPENDENT SAMPLES T-TEST\n",
    "# compare the means of a normally distributed interval dependent variable \n",
    "# for two independent groups\n",
    "a = [random.gauss(0.25,1) for _ in range(100)]\n",
    "b = [random.gauss(0, 1) for _ in range(80)]\n",
    "ttest_ind(a, b)"
   ]
  },
  {
   "cell_type": "code",
   "execution_count": null,
   "metadata": {},
   "outputs": [],
   "source": []
  }
 ],
 "metadata": {
  "kernelspec": {
   "display_name": "Python 3",
   "language": "python",
   "name": "python3"
  },
  "language_info": {
   "codemirror_mode": {
    "name": "ipython",
    "version": 3
   },
   "file_extension": ".py",
   "mimetype": "text/x-python",
   "name": "python",
   "nbconvert_exporter": "python",
   "pygments_lexer": "ipython3",
   "version": "3.7.6"
  }
 },
 "nbformat": 4,
 "nbformat_minor": 4
}
